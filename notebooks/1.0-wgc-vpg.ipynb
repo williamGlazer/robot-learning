{
 "cells": [
  {
   "cell_type": "code",
   "execution_count": 6,
   "outputs": [
    {
     "name": "stdout",
     "output_type": "stream",
     "text": [
      "env: LD_LIBRARY_PATH=$LD_LIBRARY_PATH:/home/williamglazer/.mujoco/mujoco210/bin\n"
     ]
    }
   ],
   "source": [
    "%env LD_LIBRARY_PATH=$LD_LIBRARY_PATH:/home/williamglazer/.mujoco/mujoco210/bin"
   ],
   "metadata": {
    "collapsed": false,
    "ExecuteTime": {
     "start_time": "2023-04-18T12:03:00.394229Z",
     "end_time": "2023-04-18T12:03:00.436111Z"
    }
   }
  },
  {
   "cell_type": "code",
   "execution_count": 3,
   "outputs": [
    {
     "name": "stdout",
     "output_type": "stream",
     "text": [
      "Name: jaxrl\r\n",
      "Version: 0.1.0\r\n",
      "Summary: Comparaison of famous RL algorithms in JAX and other DL frameworks\r\n",
      "Home-page: \r\n",
      "Author: WilliamGlazer & SamuelAguilar\r\n",
      "Author-email: \r\n",
      "License: MIT\r\n",
      "Location: /home/williamglazer/Documents/school/rl/robot-learning\r\n",
      "Editable project location: /home/williamglazer/Documents/school/rl/robot-learning\r\n",
      "Requires: \r\n",
      "Required-by: \r\n"
     ]
    }
   ],
   "source": [
    "!pip show jaxrl"
   ],
   "metadata": {
    "collapsed": false,
    "ExecuteTime": {
     "start_time": "2023-04-18T12:02:13.271310Z",
     "end_time": "2023-04-18T12:02:15.307426Z"
    }
   }
  },
  {
   "cell_type": "code",
   "execution_count": 4,
   "outputs": [],
   "source": [
    "import gym\n",
    "from jaxrl import vpg, setup_logger_kwargs"
   ],
   "metadata": {
    "collapsed": false,
    "ExecuteTime": {
     "start_time": "2023-04-18T12:02:15.309751Z",
     "end_time": "2023-04-18T12:02:16.043956Z"
    }
   }
  },
  {
   "cell_type": "code",
   "execution_count": 7,
   "outputs": [
    {
     "name": "stdout",
     "output_type": "stream",
     "text": [
      "Warning: Log dir /home/williamglazer/Documents/school/rl/robot-learning/jaxrl/data/vpg/vpg_s0 already exists! Storing info there anyway.\n",
      "\u001B[32;1mLogging data to /home/williamglazer/Documents/school/rl/robot-learning/jaxrl/data/vpg/vpg_s0/progress.txt\u001B[0m\n",
      "\u001B[36;1mSaving config:\n",
      "\u001B[0m\n",
      "{\n",
      "    \"ac_kwargs\":\t{\n",
      "        \"hidden_sizes\":\t[\n",
      "            128,\n",
      "            64\n",
      "        ]\n",
      "    },\n",
      "    \"actor_critic\":\t\"MLPActorCritic\",\n",
      "    \"env_fn\":\t\"<function <lambda> at 0x7f21d7b59c60>\",\n",
      "    \"epochs\":\t50,\n",
      "    \"exp_name\":\t\"vpg\",\n",
      "    \"gamma\":\t0.99,\n",
      "    \"lam\":\t0.97,\n",
      "    \"logger\":\t{\n",
      "        \"<jaxrl.utils.logx.EpochLogger object at 0x7f21d41b0ed0>\":\t{\n",
      "            \"epoch_dict\":\t{},\n",
      "            \"exp_name\":\t\"vpg\",\n",
      "            \"first_row\":\ttrue,\n",
      "            \"log_current_row\":\t{},\n",
      "            \"log_headers\":\t[],\n",
      "            \"output_dir\":\t\"/home/williamglazer/Documents/school/rl/robot-learning/jaxrl/data/vpg/vpg_s0\",\n",
      "            \"output_file\":\t{\n",
      "                \"<_io.TextIOWrapper name='/home/williamglazer/Documents/school/rl/robot-learning/jaxrl/data/vpg/vpg_s0/progress.txt' mode='w' encoding='UTF-8'>\":\t{\n",
      "                    \"mode\":\t\"w\"\n",
      "                }\n",
      "            }\n",
      "        }\n",
      "    },\n",
      "    \"logger_kwargs\":\t{\n",
      "        \"exp_name\":\t\"vpg\",\n",
      "        \"output_dir\":\t\"/home/williamglazer/Documents/school/rl/robot-learning/jaxrl/data/vpg/vpg_s0\"\n",
      "    },\n",
      "    \"max_ep_len\":\t1000,\n",
      "    \"pi_lr\":\t0.0003,\n",
      "    \"save_freq\":\t10,\n",
      "    \"seed\":\t0,\n",
      "    \"steps_per_epoch\":\t5000,\n",
      "    \"train_v_iters\":\t80,\n",
      "    \"vf_lr\":\t0.001\n",
      "}\n",
      "Import error. Trying to rebuild mujoco_py.\n"
     ]
    },
    {
     "ename": "DependencyNotInstalled",
     "evalue": "libglewosmesa.so: cannot open shared object file: No such file or directory. (HINT: you need to install mujoco_py, and also perform the setup instructions here: https://github.com/openai/mujoco-py/.)",
     "output_type": "error",
     "traceback": [
      "\u001B[0;31m---------------------------------------------------------------------------\u001B[0m",
      "\u001B[0;31mDependencyNotInstalled\u001B[0m                    Traceback (most recent call last)",
      "Cell \u001B[0;32mIn[7], line 1\u001B[0m\n\u001B[0;32m----> 1\u001B[0m \u001B[43mvpg\u001B[49m\u001B[43m(\u001B[49m\u001B[38;5;28;43;01mlambda\u001B[39;49;00m\u001B[43m:\u001B[49m\u001B[43m \u001B[49m\u001B[43mgym\u001B[49m\u001B[38;5;241;43m.\u001B[39;49m\u001B[43mmake\u001B[49m\u001B[43m(\u001B[49m\u001B[38;5;124;43m'\u001B[39;49m\u001B[38;5;124;43mHalfCheetah-v2\u001B[39;49m\u001B[38;5;124;43m'\u001B[39;49m\u001B[43m)\u001B[49m\u001B[43m,\u001B[49m\n\u001B[1;32m      2\u001B[0m \u001B[43m    \u001B[49m\u001B[43mac_kwargs\u001B[49m\u001B[38;5;241;43m=\u001B[39;49m\u001B[38;5;28;43mdict\u001B[39;49m\u001B[43m(\u001B[49m\u001B[43mhidden_sizes\u001B[49m\u001B[38;5;241;43m=\u001B[39;49m\u001B[43m(\u001B[49m\u001B[38;5;241;43m128\u001B[39;49m\u001B[43m,\u001B[49m\u001B[43m \u001B[49m\u001B[38;5;241;43m64\u001B[39;49m\u001B[43m)\u001B[49m\u001B[43m)\u001B[49m\u001B[43m,\u001B[49m\n\u001B[1;32m      3\u001B[0m \u001B[43m    \u001B[49m\u001B[43mseed\u001B[49m\u001B[38;5;241;43m=\u001B[39;49m\u001B[38;5;241;43m0\u001B[39;49m\u001B[43m,\u001B[49m\n\u001B[1;32m      4\u001B[0m \u001B[43m    \u001B[49m\u001B[43msteps_per_epoch\u001B[49m\u001B[38;5;241;43m=\u001B[39;49m\u001B[38;5;241;43m5_000\u001B[39;49m\u001B[43m,\u001B[49m\n\u001B[1;32m      5\u001B[0m \u001B[43m    \u001B[49m\u001B[43mepochs\u001B[49m\u001B[38;5;241;43m=\u001B[39;49m\u001B[38;5;241;43m50\u001B[39;49m\u001B[43m,\u001B[49m\n\u001B[1;32m      6\u001B[0m \u001B[43m    \u001B[49m\u001B[43mlogger_kwargs\u001B[49m\u001B[38;5;241;43m=\u001B[39;49m\u001B[43msetup_logger_kwargs\u001B[49m\u001B[43m(\u001B[49m\u001B[43mexp_name\u001B[49m\u001B[38;5;241;43m=\u001B[39;49m\u001B[38;5;124;43m'\u001B[39;49m\u001B[38;5;124;43mvpg\u001B[39;49m\u001B[38;5;124;43m'\u001B[39;49m\u001B[43m,\u001B[49m\u001B[43m \u001B[49m\u001B[43mseed\u001B[49m\u001B[38;5;241;43m=\u001B[39;49m\u001B[38;5;241;43m0\u001B[39;49m\u001B[43m)\u001B[49m\n\u001B[1;32m      7\u001B[0m \u001B[43m)\u001B[49m\n",
      "File \u001B[0;32m~/Documents/school/rl/robot-learning/jaxrl/vpg/algorithm.py:184\u001B[0m, in \u001B[0;36mvpg\u001B[0;34m(env_fn, actor_critic, ac_kwargs, seed, steps_per_epoch, epochs, gamma, pi_lr, vf_lr, train_v_iters, lam, max_ep_len, logger_kwargs, save_freq)\u001B[0m\n\u001B[1;32m    181\u001B[0m key \u001B[38;5;241m=\u001B[39m jax\u001B[38;5;241m.\u001B[39mrandom\u001B[38;5;241m.\u001B[39mPRNGKey(seed)\n\u001B[1;32m    183\u001B[0m \u001B[38;5;66;03m# Instantiate environment\u001B[39;00m\n\u001B[0;32m--> 184\u001B[0m env \u001B[38;5;241m=\u001B[39m \u001B[43menv_fn\u001B[49m\u001B[43m(\u001B[49m\u001B[43m)\u001B[49m\n\u001B[1;32m    185\u001B[0m obs_dim \u001B[38;5;241m=\u001B[39m env\u001B[38;5;241m.\u001B[39mobservation_space\u001B[38;5;241m.\u001B[39mshape\n\u001B[1;32m    186\u001B[0m act_dim \u001B[38;5;241m=\u001B[39m env\u001B[38;5;241m.\u001B[39maction_space\u001B[38;5;241m.\u001B[39mshape\n",
      "Cell \u001B[0;32mIn[7], line 1\u001B[0m, in \u001B[0;36m<lambda>\u001B[0;34m()\u001B[0m\n\u001B[0;32m----> 1\u001B[0m vpg(\u001B[38;5;28;01mlambda\u001B[39;00m: \u001B[43mgym\u001B[49m\u001B[38;5;241;43m.\u001B[39;49m\u001B[43mmake\u001B[49m\u001B[43m(\u001B[49m\u001B[38;5;124;43m'\u001B[39;49m\u001B[38;5;124;43mHalfCheetah-v2\u001B[39;49m\u001B[38;5;124;43m'\u001B[39;49m\u001B[43m)\u001B[49m,\n\u001B[1;32m      2\u001B[0m     ac_kwargs\u001B[38;5;241m=\u001B[39m\u001B[38;5;28mdict\u001B[39m(hidden_sizes\u001B[38;5;241m=\u001B[39m(\u001B[38;5;241m128\u001B[39m, \u001B[38;5;241m64\u001B[39m)),\n\u001B[1;32m      3\u001B[0m     seed\u001B[38;5;241m=\u001B[39m\u001B[38;5;241m0\u001B[39m,\n\u001B[1;32m      4\u001B[0m     steps_per_epoch\u001B[38;5;241m=\u001B[39m\u001B[38;5;241m5_000\u001B[39m,\n\u001B[1;32m      5\u001B[0m     epochs\u001B[38;5;241m=\u001B[39m\u001B[38;5;241m50\u001B[39m,\n\u001B[1;32m      6\u001B[0m     logger_kwargs\u001B[38;5;241m=\u001B[39msetup_logger_kwargs(exp_name\u001B[38;5;241m=\u001B[39m\u001B[38;5;124m'\u001B[39m\u001B[38;5;124mvpg\u001B[39m\u001B[38;5;124m'\u001B[39m, seed\u001B[38;5;241m=\u001B[39m\u001B[38;5;241m0\u001B[39m)\n\u001B[1;32m      7\u001B[0m )\n",
      "File \u001B[0;32m~/anaconda3/envs/robot-learning/lib/python3.11/site-packages/gym/envs/registration.py:640\u001B[0m, in \u001B[0;36mmake\u001B[0;34m(id, max_episode_steps, autoreset, apply_api_compatibility, disable_env_checker, **kwargs)\u001B[0m\n\u001B[1;32m    637\u001B[0m     render_mode \u001B[38;5;241m=\u001B[39m \u001B[38;5;28;01mNone\u001B[39;00m\n\u001B[1;32m    639\u001B[0m \u001B[38;5;28;01mtry\u001B[39;00m:\n\u001B[0;32m--> 640\u001B[0m     env \u001B[38;5;241m=\u001B[39m \u001B[43menv_creator\u001B[49m\u001B[43m(\u001B[49m\u001B[38;5;241;43m*\u001B[39;49m\u001B[38;5;241;43m*\u001B[39;49m\u001B[43m_kwargs\u001B[49m\u001B[43m)\u001B[49m\n\u001B[1;32m    641\u001B[0m \u001B[38;5;28;01mexcept\u001B[39;00m \u001B[38;5;167;01mTypeError\u001B[39;00m \u001B[38;5;28;01mas\u001B[39;00m e:\n\u001B[1;32m    642\u001B[0m     \u001B[38;5;28;01mif\u001B[39;00m (\n\u001B[1;32m    643\u001B[0m         \u001B[38;5;28mstr\u001B[39m(e)\u001B[38;5;241m.\u001B[39mfind(\u001B[38;5;124m\"\u001B[39m\u001B[38;5;124mgot an unexpected keyword argument \u001B[39m\u001B[38;5;124m'\u001B[39m\u001B[38;5;124mrender_mode\u001B[39m\u001B[38;5;124m'\u001B[39m\u001B[38;5;124m\"\u001B[39m) \u001B[38;5;241m>\u001B[39m\u001B[38;5;241m=\u001B[39m \u001B[38;5;241m0\u001B[39m\n\u001B[1;32m    644\u001B[0m         \u001B[38;5;129;01mand\u001B[39;00m apply_human_rendering\n\u001B[1;32m    645\u001B[0m     ):\n",
      "File \u001B[0;32m~/anaconda3/envs/robot-learning/lib/python3.11/site-packages/gym/envs/mujoco/half_cheetah.py:20\u001B[0m, in \u001B[0;36mHalfCheetahEnv.__init__\u001B[0;34m(self, **kwargs)\u001B[0m\n\u001B[1;32m     18\u001B[0m \u001B[38;5;28;01mdef\u001B[39;00m \u001B[38;5;21m__init__\u001B[39m(\u001B[38;5;28mself\u001B[39m, \u001B[38;5;241m*\u001B[39m\u001B[38;5;241m*\u001B[39mkwargs):\n\u001B[1;32m     19\u001B[0m     observation_space \u001B[38;5;241m=\u001B[39m Box(low\u001B[38;5;241m=\u001B[39m\u001B[38;5;241m-\u001B[39mnp\u001B[38;5;241m.\u001B[39minf, high\u001B[38;5;241m=\u001B[39mnp\u001B[38;5;241m.\u001B[39minf, shape\u001B[38;5;241m=\u001B[39m(\u001B[38;5;241m17\u001B[39m,), dtype\u001B[38;5;241m=\u001B[39mnp\u001B[38;5;241m.\u001B[39mfloat64)\n\u001B[0;32m---> 20\u001B[0m     \u001B[43mMuJocoPyEnv\u001B[49m\u001B[38;5;241;43m.\u001B[39;49m\u001B[38;5;21;43m__init__\u001B[39;49m\u001B[43m(\u001B[49m\n\u001B[1;32m     21\u001B[0m \u001B[43m        \u001B[49m\u001B[38;5;28;43mself\u001B[39;49m\u001B[43m,\u001B[49m\u001B[43m \u001B[49m\u001B[38;5;124;43m\"\u001B[39;49m\u001B[38;5;124;43mhalf_cheetah.xml\u001B[39;49m\u001B[38;5;124;43m\"\u001B[39;49m\u001B[43m,\u001B[49m\u001B[43m \u001B[49m\u001B[38;5;241;43m5\u001B[39;49m\u001B[43m,\u001B[49m\u001B[43m \u001B[49m\u001B[43mobservation_space\u001B[49m\u001B[38;5;241;43m=\u001B[39;49m\u001B[43mobservation_space\u001B[49m\u001B[43m,\u001B[49m\u001B[43m \u001B[49m\u001B[38;5;241;43m*\u001B[39;49m\u001B[38;5;241;43m*\u001B[39;49m\u001B[43mkwargs\u001B[49m\n\u001B[1;32m     22\u001B[0m \u001B[43m    \u001B[49m\u001B[43m)\u001B[49m\n\u001B[1;32m     23\u001B[0m     utils\u001B[38;5;241m.\u001B[39mEzPickle\u001B[38;5;241m.\u001B[39m\u001B[38;5;21m__init__\u001B[39m(\u001B[38;5;28mself\u001B[39m, \u001B[38;5;241m*\u001B[39m\u001B[38;5;241m*\u001B[39mkwargs)\n",
      "File \u001B[0;32m~/anaconda3/envs/robot-learning/lib/python3.11/site-packages/gym/envs/mujoco/mujoco_env.py:186\u001B[0m, in \u001B[0;36mMuJocoPyEnv.__init__\u001B[0;34m(self, model_path, frame_skip, observation_space, render_mode, width, height, camera_id, camera_name)\u001B[0m\n\u001B[1;32m    174\u001B[0m \u001B[38;5;28;01mdef\u001B[39;00m \u001B[38;5;21m__init__\u001B[39m(\n\u001B[1;32m    175\u001B[0m     \u001B[38;5;28mself\u001B[39m,\n\u001B[1;32m    176\u001B[0m     model_path: \u001B[38;5;28mstr\u001B[39m,\n\u001B[0;32m   (...)\u001B[0m\n\u001B[1;32m    183\u001B[0m     camera_name: Optional[\u001B[38;5;28mstr\u001B[39m] \u001B[38;5;241m=\u001B[39m \u001B[38;5;28;01mNone\u001B[39;00m,\n\u001B[1;32m    184\u001B[0m ):\n\u001B[1;32m    185\u001B[0m     \u001B[38;5;28;01mif\u001B[39;00m MUJOCO_PY_IMPORT_ERROR \u001B[38;5;129;01mis\u001B[39;00m \u001B[38;5;129;01mnot\u001B[39;00m \u001B[38;5;28;01mNone\u001B[39;00m:\n\u001B[0;32m--> 186\u001B[0m         \u001B[38;5;28;01mraise\u001B[39;00m error\u001B[38;5;241m.\u001B[39mDependencyNotInstalled(\n\u001B[1;32m    187\u001B[0m             \u001B[38;5;124mf\u001B[39m\u001B[38;5;124m\"\u001B[39m\u001B[38;5;132;01m{\u001B[39;00mMUJOCO_PY_IMPORT_ERROR\u001B[38;5;132;01m}\u001B[39;00m\u001B[38;5;124m. (HINT: you need to install mujoco_py, and also perform the setup instructions here: https://github.com/openai/mujoco-py/.)\u001B[39m\u001B[38;5;124m\"\u001B[39m\n\u001B[1;32m    188\u001B[0m         )\n\u001B[1;32m    190\u001B[0m     logger\u001B[38;5;241m.\u001B[39mwarn(\n\u001B[1;32m    191\u001B[0m         \u001B[38;5;124m\"\u001B[39m\u001B[38;5;124mThis version of the mujoco environments depends \u001B[39m\u001B[38;5;124m\"\u001B[39m\n\u001B[1;32m    192\u001B[0m         \u001B[38;5;124m\"\u001B[39m\u001B[38;5;124mon the mujoco-py bindings, which are no longer maintained \u001B[39m\u001B[38;5;124m\"\u001B[39m\n\u001B[0;32m   (...)\u001B[0m\n\u001B[1;32m    195\u001B[0m         \u001B[38;5;124m\"\u001B[39m\u001B[38;5;124myou are trying to precisely replicate previous works).\u001B[39m\u001B[38;5;124m\"\u001B[39m\n\u001B[1;32m    196\u001B[0m     )\n\u001B[1;32m    198\u001B[0m     \u001B[38;5;28msuper\u001B[39m()\u001B[38;5;241m.\u001B[39m\u001B[38;5;21m__init__\u001B[39m(\n\u001B[1;32m    199\u001B[0m         model_path,\n\u001B[1;32m    200\u001B[0m         frame_skip,\n\u001B[0;32m   (...)\u001B[0m\n\u001B[1;32m    206\u001B[0m         camera_name,\n\u001B[1;32m    207\u001B[0m     )\n",
      "\u001B[0;31mDependencyNotInstalled\u001B[0m: libglewosmesa.so: cannot open shared object file: No such file or directory. (HINT: you need to install mujoco_py, and also perform the setup instructions here: https://github.com/openai/mujoco-py/.)"
     ]
    }
   ],
   "source": [
    "vpg(lambda: gym.make('HalfCheetah-v2'),\n",
    "    ac_kwargs=dict(hidden_sizes=(128, 64)),\n",
    "    seed=0,\n",
    "    steps_per_epoch=5_000,\n",
    "    epochs=50,\n",
    "    logger_kwargs=setup_logger_kwargs(exp_name='vpg', seed=0)\n",
    ")"
   ],
   "metadata": {
    "collapsed": false
   }
  }
 ],
 "metadata": {
  "kernelspec": {
   "display_name": "Python 3",
   "language": "python",
   "name": "python3"
  },
  "language_info": {
   "codemirror_mode": {
    "name": "ipython",
    "version": 2
   },
   "file_extension": ".py",
   "mimetype": "text/x-python",
   "name": "python",
   "nbconvert_exporter": "python",
   "pygments_lexer": "ipython2",
   "version": "2.7.6"
  }
 },
 "nbformat": 4,
 "nbformat_minor": 0
}
